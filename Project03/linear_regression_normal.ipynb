{
 "cells": [
  {
   "cell_type": "markdown",
   "metadata": {},
   "source": [
    "**YOUR NAME HERE**\n",
    "\n",
    "Spring 2020\n",
    "\n",
    "CS 251B: Data Analysis and Visualization\n",
    "\n",
    "Project 3: Linear Regression"
   ]
  },
  {
   "cell_type": "code",
   "execution_count": 1,
   "metadata": {},
   "outputs": [],
   "source": [
    "import os\n",
    "import random\n",
    "import numpy as np\n",
    "import matplotlib.pyplot as plt\n",
    "\n",
    "import data\n",
    "import linear_regression \n",
    "\n",
    "plt.style.use(['seaborn-colorblind', 'seaborn-darkgrid'])\n",
    "plt.rcParams.update({'font.size': 20})\n",
    "\n",
    "np.set_printoptions(suppress=True, precision=5)\n",
    "\n",
    "# Automatically reload external modules\n",
    "%load_ext autoreload\n",
    "%autoreload 2"
   ]
  },
  {
   "cell_type": "markdown",
   "metadata": {},
   "source": [
    "## Notes\n",
    "\n",
    "- In your implementations, only the following \"high level\" `scipy`/`numpy` functions can be used:\n",
    "    - `np.linalg.inv`\n",
    "    - `scipy.linalg.lstsq` (in `LinearRegression::linear_regression_scipy` only).\n",
    "    - `np.linalg.norm`"
   ]
  },
  {
   "cell_type": "markdown",
   "metadata": {},
   "source": [
    "## Task 1: Run a linear regression\n",
    "\n",
    "In this task, you will implement linear regression using the built-in SciPy least-squares solver, then analyze and plot the results on the Iris dataset. "
   ]
  },
  {
   "cell_type": "markdown",
   "metadata": {},
   "source": [
    "### 1a) Import Iris data\n",
    "\n",
    "**TODO:**\n",
    "- In the below cell, load in the Iris dataset into a `Data` object.\n",
    "- Print out the object (only showing the first few data samples).\n",
    "- Create an `LinearRegression` object called `lin_reg` based on the `Data` object that you just created."
   ]
  },
  {
   "cell_type": "code",
   "execution_count": 2,
   "metadata": {
    "scrolled": false
   },
   "outputs": [
    {
     "name": "stdout",
     "output_type": "stream",
     "text": [
      "data/iris.csv (150x5)\n",
      "Headers:\n",
      "sepal_length sepal_width petal_length petal_width species \n",
      "Types:\n",
      "numeric numeric numeric numeric numeric \n",
      "[[5.1 3.5 1.4 0.2 0. ]\n",
      " [4.9 3.  1.4 0.2 0. ]\n",
      " [4.7 3.2 1.3 0.2 0. ]\n",
      " [4.6 3.1 1.5 0.2 0. ]\n",
      " [5.  3.6 1.4 0.2 0. ]]\n"
     ]
    }
   ],
   "source": [
    "iris_fp = 'data/iris.csv'\n",
    "iris_data = data.Data(iris_fp)\n",
    "\n",
    "print(iris_data)\n",
    "\n",
    "lin_reg = linear_regression.LinearRegression(iris_data)"
   ]
  },
  {
   "cell_type": "markdown",
   "metadata": {},
   "source": [
    "Your code should print something that looks like this:\n",
    "\n",
    "    -------------------------------\n",
    "    data/iris.csv (150x5)\n",
    "    Headers:\n",
    "    sepal_length\tsepal_width\tpetal_length\tpetal_width\tspecies\n",
    "    Types:\n",
    "    numeric\tnumeric\tnumeric\tnumeric\tnumeric\n",
    "    -------------------------------\n",
    "    Showing first 5/150 rows.\n",
    "    5.1\t3.5\t1.4\t0.2\t0.0\n",
    "    4.9\t3.0\t1.4\t0.2\t0.0\n",
    "    4.7\t3.2\t1.3\t0.2\t0.0\n",
    "    4.6\t3.1\t1.5\t0.2\t0.0\n",
    "    5.0\t3.6\t1.4\t0.2\t0.0"
   ]
  },
  {
   "cell_type": "markdown",
   "metadata": {},
   "source": [
    "### 1b) Use SciPy's built-in least squares solver to perform linear regression\n",
    "\n",
    "Implement the following methods that are necessary to perform and analyze a linear regression.\n",
    "\n",
    "- `linear_regression_scipy`: Uses the built-in least squares solver in the `scipy` module to perform linear regression. **Run test code below.**\n",
    "- `predict`: Use fitted linear regression model coefficients to make predictions based on the data. **Run test code below.**\n",
    "- `r_squared`: Quality of fit metric for linear regression.\n",
    "- `compute_residuals`: Compute the difference between the regression model predictions and the actual dependent variable values (residuals).\n",
    "- `linear_regression`: This is the method that brings together everything you've implemented so far and is the \"front-facing\" method that you want to call if you want to do a linear regression. The methods you have implemented thus far are \"helper methods\". **Run test code below.**\n",
    "\n",
    "**$R^2$ Equation:** $$1 - \\frac{E}{S}$$ where $$E = \\sum_i \\left (y_i - \\hat{y}_i \\right )^2$$ and $$S =  \\sum_i \\left (y_i - \\bar{y} \\right )^2$$ where $y_i$ are the dependent variable values, $\\bar{y}_i$ is the mean of the dependent variable values, $\\hat{y}_i$ is the y values *predicted* by the regression. "
   ]
  },
  {
   "cell_type": "markdown",
   "metadata": {},
   "source": [
    "#### Test `linear_regression_scipy`"
   ]
  },
  {
   "cell_type": "code",
   "execution_count": 17,
   "metadata": {},
   "outputs": [
    {
     "name": "stdout",
     "output_type": "stream",
     "text": [
      "Your regression fit coefficients are\n",
      "[ 0.10874  0.58024  0.05166 -0.34    -0.54393] and should be\n",
      "[ 0.10874  0.58024  0.05166 -0.34    -0.54393]\n",
      "Your regression fit coefficient column vector shape is\n",
      "(5, 1) and should be\n",
      "(5, 1)\n"
     ]
    }
   ],
   "source": [
    "np.random.seed(0)\n",
    "# test data: 10 data samples, 4 dimensional.\n",
    "test_A = np.random.normal(size=(10, 4))\n",
    "test_y = np.random.normal(size=(10, 1))\n",
    "test_c = lin_reg.linear_regression_scipy(test_A, test_y)\n",
    "print(f'Your regression fit coefficients are\\n{np.squeeze(test_c)} and should be\\n[ 0.10874  0.58024  0.05166 -0.34    -0.54393]')\n",
    "print(f'Your regression fit coefficient column vector shape is\\n{test_c.shape} and should be\\n(5, 1)')"
   ]
  },
  {
   "cell_type": "markdown",
   "metadata": {},
   "source": [
    "#### Test `predict`"
   ]
  },
  {
   "cell_type": "code",
   "execution_count": 18,
   "metadata": {},
   "outputs": [
    {
     "name": "stdout",
     "output_type": "stream",
     "text": [
      "Your model y predictions are\n",
      "[2.18518 5.82409 3.23376] and should be\n",
      "[2.18518 5.82409 3.23376]\n",
      "Your model y predictions shape is\n",
      "(3, 1) and should be\n",
      "(3, 1)\n"
     ]
    }
   ],
   "source": [
    "np.random.seed(0)\n",
    "# test data: 3 data samples, 4 dimensional.\n",
    "test_slope = np.random.normal(size=(5, 1))\n",
    "test_X = np.random.normal(size=(3, 5))\n",
    "y_pred = lin_reg.predict(test_slope, np.pi, test_X)\n",
    "print(f'Your model y predictions are\\n{np.squeeze(y_pred)} and should be\\n[2.18518 5.82409 3.23376]')\n",
    "print(f'Your model y predictions shape is\\n{y_pred.shape} and should be\\n(3, 1)')"
   ]
  },
  {
   "cell_type": "markdown",
   "metadata": {},
   "source": [
    "#### Test `linear_regression` method"
   ]
  },
  {
   "cell_type": "code",
   "execution_count": 20,
   "metadata": {},
   "outputs": [
    {
     "name": "stdout",
     "output_type": "stream",
     "text": [
      "Shape of your A data array is\n",
      "(150, 1) and should be\n",
      "(150, 1)\n",
      "Shape of your y dep var vector is\n",
      "(150, 1) and should be\n",
      "(150, 1)\n",
      "\n",
      "Your independent variables are ['sepal_length'] and should be ['sepal_length']\n",
      "Your dependent variables are petal_width and should be petal_width\n",
      "\n",
      "Shape of your slope fits are (1, 1) and should be (1, 1)\n",
      "Length of your intercept is 1 and should be 1\n",
      "Length of your R^2 is 1 and should be 1\n",
      "\n",
      "Your slope is [[0.75292]] and should be [[0.75292]]\n",
      "Your intercept is -3.20 and should be -3.20\n",
      "Your R^2 is 0.67 and should be 0.67\n",
      "Your 1st few residuals are\n",
      "[28.65225] and should be\n",
      "[[-0.43966 -0.28908 -0.1385  -0.06321 -0.36437]]\n"
     ]
    }
   ],
   "source": [
    "lin_reg.linear_regression(['sepal_length'], 'petal_width', method='scipy')\n",
    "\n",
    "# test shapes of instance variables\n",
    "print(f'Shape of your A data array is\\n{lin_reg.A.shape} and should be\\n(150, 1)')\n",
    "print(f'Shape of your y dep var vector is\\n{lin_reg.y.shape} and should be\\n(150, 1)\\n')\n",
    "print(f\"Your independent variables are {lin_reg.ind_vars} and should be ['sepal_length']\")\n",
    "print(f'Your dependent variables are {lin_reg.dep_var} and should be petal_width\\n')\n",
    "print(f'Shape of your slope fits are {lin_reg.slope.shape} and should be (1, 1)')\n",
    "print(f'Length of your intercept is {lin_reg.intercept.size} and should be 1')\n",
    "print(f'Length of your R^2 is {lin_reg.R2.size} and should be 1\\n')\n",
    "\n",
    "# Test specific values\n",
    "print(f'Your slope is {lin_reg.slope} and should be [[0.75292]]')\n",
    "print(f'Your intercept is {lin_reg.intercept:.2f} and should be -3.20')\n",
    "print(f'Your R^2 is {lin_reg.R2:.2f} and should be 0.67')\n",
    "print(f'Your 1st few residuals are\\n{lin_reg.residuals[:5].T} and should be\\n[[-0.43966 -0.28908 -0.1385  -0.06321 -0.36437]]')"
   ]
  },
  {
   "cell_type": "markdown",
   "metadata": {},
   "source": [
    "## Task 2: Visualize linear regression"
   ]
  },
  {
   "cell_type": "markdown",
   "metadata": {},
   "source": [
    "### 2a) Update `scatter` to support visualizing linear regression results\n",
    "\n",
    "- Implement `scatter` in `linear_regression.py`: Call your `Analysis::scatter` method to make the scatter plot, then handle overlaying the regression line in `LinearRegression::scatter`. **Run test code below.**"
   ]
  },
  {
   "cell_type": "markdown",
   "metadata": {},
   "source": [
    "#### Test  `scatter` with linear regression\n",
    "\n",
    "Only run this when you're done implementing all the methods thru `linear_regression`. This should produce:\n",
    "- A scatter plot with a linear regression line that looks like it makes sense.\n",
    "- The title should have the linear regression method (\"scipy\") and the $R^2$ value."
   ]
  },
  {
   "cell_type": "code",
   "execution_count": null,
   "metadata": {},
   "outputs": [],
   "source": [
    "lin_reg.scatter('sepal_length', 'petal_width', 'scipy')\n",
    "lin_reg.show()"
   ]
  },
  {
   "cell_type": "markdown",
   "metadata": {},
   "source": [
    "### 2b) Update `pair_plot` to add regression lines to each scatter plot\n",
    "\n",
    "- In the cell below, load in the `test52` data in a `Data` object.\n",
    "    - Print the `Data object` (1st few lines only).\n",
    "    - Create a `linear_regression` object based on the `Data` object."
   ]
  },
  {
   "cell_type": "code",
   "execution_count": null,
   "metadata": {},
   "outputs": [],
   "source": []
  },
  {
   "cell_type": "markdown",
   "metadata": {},
   "source": [
    "#### Test `pair_plot()`\n",
    "\n",
    "- Write `pair_plot()` in `linear_regression.py` that calls `Analysis::pair_plot` and extends it  to compute and plot the regression line for each scatter plot (all pairs of variables). **Run test code below.**\n",
    "\n",
    "Executing the cell below should produce:\n",
    "- A 5x5 grid of scatter plots.\n",
    "- (*new*) regression lines in each scatter plot. The title of each subplot should have the $R^2$ value.\n",
    "- Only 1st column has y axis labels.\n",
    "- Only last column has x axis labels."
   ]
  },
  {
   "cell_type": "code",
   "execution_count": null,
   "metadata": {},
   "outputs": [],
   "source": [
    "lin_reg.pair_plot(test52_data.get_headers())"
   ]
  },
  {
   "cell_type": "markdown",
   "metadata": {},
   "source": [
    "**Question 1:** Use the test pair plot to identify potential relationships among variables. Which variables appear to be most strongly related? Which variables appear least likely to be related?"
   ]
  },
  {
   "cell_type": "markdown",
   "metadata": {},
   "source": [
    "**Answer 1:**"
   ]
  },
  {
   "cell_type": "markdown",
   "metadata": {},
   "source": [
    "**Question 2:** What are the pros/cons of using pair plots to visualize multivariate data vs. a 3D scatter plot."
   ]
  },
  {
   "cell_type": "markdown",
   "metadata": {},
   "source": [
    "**Answer 2:**"
   ]
  },
  {
   "cell_type": "markdown",
   "metadata": {},
   "source": [
    "### 2c) Making `pair_plot` more useful\n",
    "\n",
    "- Update your `pair_plot` code to place a histogram along the main diagonal of the `pair_plot` grid (rather than a scatter plot). The matplotlib axis clear function should be useful.\n",
    "\n",
    "\n",
    "Executing the cell below should produce:\n",
    "- A 5x5 grid of scatter plots (histograms along main diagonal).\n",
    "- Regression lines in each scatter plot. The title of each subplot should have the $R^2$ value.\n",
    "- Only 1st column has y axis labels.\n",
    "- Only last column has x axis labels."
   ]
  },
  {
   "cell_type": "code",
   "execution_count": null,
   "metadata": {},
   "outputs": [],
   "source": [
    "lin_reg.pair_plot(test52_data.get_headers())"
   ]
  },
  {
   "cell_type": "markdown",
   "metadata": {},
   "source": [
    "**Question 3:** Which is more useful along diagonal, the histogram or scatterplot?"
   ]
  },
  {
   "cell_type": "markdown",
   "metadata": {},
   "source": [
    "**Answer 3:**"
   ]
  },
  {
   "cell_type": "markdown",
   "metadata": {},
   "source": [
    "## Task 3 Implement your own linear regression solver\n",
    "\n",
    "In Tasks 1-2, you have used the SciPy least square solver to perform linear regression. In this task, you will solve the least squares problem directly using matrix math and compare the performance of the different methods on data.\n",
    "\n",
    "- In the cell below, load in the Iris data again, make the `Data` object, create the `LinearRegression` object."
   ]
  },
  {
   "cell_type": "code",
   "execution_count": null,
   "metadata": {},
   "outputs": [],
   "source": []
  },
  {
   "cell_type": "markdown",
   "metadata": {},
   "source": [
    "### 3a) Normal equations\n",
    "\n",
    "This method involves solving the normal equations $$(A^TA)c = A^Ty$$\n",
    "\n",
    "where:\n",
    "- $A$ is the data matrix of independent variables selected for the regression shape=(`num_data_samps`, `num_ind_vars+1`) with an extra 1 column vector for the intercept\n",
    "- $c$ is the vector of unknown regression coefficients associated with each independent variable (slopes + intercept) shape=(`num_ind_vars+1`,)\n",
    "- $y$ is the dependent variable column vector shape=(`num_data_samps`,)\n",
    "\n",
    "**TODO:**\n",
    "- Implement the `linear_regression::linear_regression_normal` function. **Run test code below.**"
   ]
  },
  {
   "cell_type": "code",
   "execution_count": null,
   "metadata": {},
   "outputs": [],
   "source": [
    "lin_reg_norm = linear_regression.LinearRegression(iris_data)\n",
    "lin_reg_norm.linear_regression(['sepal_length'], 'petal_width', 'normal')\n",
    "lin_reg_norm.scatter('sepal_length', 'petal_width', 'normal')\n",
    "lin_reg_norm.show()"
   ]
  }
 ],
 "metadata": {
  "kernelspec": {
   "display_name": "Python 3",
   "language": "python",
   "name": "python3"
  },
  "language_info": {
   "codemirror_mode": {
    "name": "ipython",
    "version": 3
   },
   "file_extension": ".py",
   "mimetype": "text/x-python",
   "name": "python",
   "nbconvert_exporter": "python",
   "pygments_lexer": "ipython3",
   "version": "3.7.6"
  }
 },
 "nbformat": 4,
 "nbformat_minor": 2
}
