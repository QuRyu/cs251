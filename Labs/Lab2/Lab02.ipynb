{
 "cells": [
  {
   "cell_type": "markdown",
   "metadata": {},
   "source": [
    "# Lab 2: Matrix Transformations, Numpy and MatPlotLib\n",
    "## 1) Setup, data import and projection\n",
    "\n",
    "### 1a) Setup\n",
    "1. Import numpy\n",
    "2. Import matplotlib.pyplot"
   ]
  },
  {
   "cell_type": "code",
   "execution_count": 1,
   "metadata": {},
   "outputs": [],
   "source": [
    "# Header\n",
    "\n",
    "import numpy as np\n",
    "import matplotlib.pyplot as plt\n",
    "\n",
    "plt.style.use(['seaborn-colorblind', 'seaborn-darkgrid'])\n",
    "plt.rcParams['font.size'] = 15\n",
    "plt.rcParams[\"figure.figsize\"] = [12,4.5]\n",
    "\n",
    "np.set_printoptions(suppress=True, precision=5)\n",
    "\n",
    "# Automatically reload external modules\n",
    "%load_ext autoreload\n",
    "%autoreload 2"
   ]
  },
  {
   "cell_type": "markdown",
   "metadata": {},
   "source": [
    "### 1b) Projection\n",
    "1. Read the 3-dimensional toy dataset in 'data/gauss_3d.csv' into a numpy matrix with 3 dimensions (X, Y, and Z). [numpy.genfromtxt](https://numpy.org/doc/1.18/reference/generated/numpy.genfromtxt.html)\n",
    "2. Create a scatterplot with 3 subplots, one for every possible combination of the dataset's  dimensions. Each of these plots shows a different 2D __projection__ of the 3D dataset. \n",
    "  - Remember pyplot? [pyplot](https://matplotlib.org/tutorials/introductory/pyplot.html#sphx-glr-tutorials-introductory-pyplot-py) \n",
    "  - Remember subplots?  [pyplot.subplot](https://matplotlib.org/api/_as_gen/matplotlib.pyplot.subplot.html) "
   ]
  },
  {
   "cell_type": "code",
   "execution_count": null,
   "metadata": {},
   "outputs": [],
   "source": []
  },
  {
   "cell_type": "markdown",
   "metadata": {},
   "source": [
    "### 1c) Prepare data for transformation matrices\n",
    "We need to add a column of 1s to our dataset.\n",
    "1. Create a matrix of ones of the correct dimensions. [numpy.ones](hhttps://numpy.org/doc/1.18/reference/generated/numpy.ones.html)\n",
    "2. Add the new column to the imported data. [numpy.hstack](https://numpy.org/doc/1.18/reference/generated/numpy.hstack.html)\n"
   ]
  },
  {
   "cell_type": "code",
   "execution_count": null,
   "metadata": {},
   "outputs": [],
   "source": []
  },
  {
   "cell_type": "markdown",
   "metadata": {},
   "source": [
    "## 2) Scale\n",
    "\n",
    "<img src=\"img/Scaling-Matrix2.png\" align=\"right\"/>\n",
    "\n",
    "<i>Image: Example of translation matrix multiplied with a vector</i>\n",
    "\n",
    "1. Design a transformation matrix that scales the dataset\n",
    "  - by 3 in the X axis\n",
    "  - by 0.1 in the Z axis\n",
    "  - Identity Matrix: [eye](https://numpy.org/doc/1.18/reference/generated/numpy.eye.html)\n",
    "2. Multiply your transformation matrix with the dataset using matrix multiplication and transposed matrices\n",
    "  - m @ n or [matmul](https://numpy.org/doc/1.18/reference/generated/numpy.matmul.html) \n",
    "  - [transpose](https://numpy.org/doc/1.18/reference/generated/numpy.ndarray.T.html#numpy.ndarray.T)\n",
    "3. As 3 subplots, graph the scaled results on all 3 possible pairs of axes alongside the original projections."
   ]
  },
  {
   "cell_type": "code",
   "execution_count": null,
   "metadata": {},
   "outputs": [],
   "source": []
  },
  {
   "cell_type": "markdown",
   "metadata": {},
   "source": [
    "## 3) Translation\n",
    "\n",
    "<img src=\"img/Translation-Matrix2.png\" align=\"right\"/>\n",
    "\n",
    "<i>Image: Example of translation matrix multiplied with a vector</i>\n",
    "\n",
    "1. Design a transformation matrix that translates the dataset\n",
    "  - +25 units in the Y direction  (t<sub>y</sub>)\n",
    "  - -1000 units in the Z direction (t<sub>z</sub>)\n",
    "  - Identity Matrix: [eye](https://numpy.org/doc/1.18/reference/generated/numpy.eye.html)\n",
    "2. Multiply your transformation matrix with the dataset using matrix multiplication and transposed matrices\n",
    "  - m @ n or [matmul](https://numpy.org/doc/1.18/reference/generated/numpy.matmul.html) \n",
    "  - [transpose](https://numpy.org/doc/1.18/reference/generated/numpy.ndarray.T.html#numpy.ndarray.T)\n",
    "3. As 3 subplots, graph the translated results on all 3 possible pairs of axes alongside the original projections. \n",
    "  - <i>You can implement this as a function. You'll be repeating this visualization with different transformation matrices.</i>\n",
    "  - Each subplot should have a title\n",
    "  - The plot should include a legend\n"
   ]
  },
  {
   "cell_type": "code",
   "execution_count": null,
   "metadata": {},
   "outputs": [],
   "source": []
  },
  {
   "cell_type": "markdown",
   "metadata": {},
   "source": [
    "<img src=\"img/Rotation-Matrix.png\" align=\"right\" width=\"200\"/>\n",
    "\n",
    "## 4) Rotation\n",
    "\n",
    "1. Design a transformation matrix that rotates the dataset\n",
    "  - 30 degrees about the Y axis\n",
    "  - Identity Matrix: [eye](https://numpy.org/doc/1.18/reference/generated/numpy.eye.html)\n",
    "  - [Trigonometric functions](https://numpy.org/doc/1.18/reference/routines.math.html)\n",
    "2. Multiply your transformation matrix with the dataset using matrix multiplication and transposed matrices\n",
    "  - m @ n or [matmul](https://numpy.org/doc/1.18/reference/generated/numpy.matmul.html) \n",
    "  - [transpose](https://numpy.org/doc/1.18/reference/generated/numpy.ndarray.T.html#numpy.ndarray.T)\n",
    "3. As 3 subplots, graph the rotated results on all 3 possible pairs of axes alongside the original projections."
   ]
  },
  {
   "cell_type": "code",
   "execution_count": null,
   "metadata": {},
   "outputs": [],
   "source": []
  },
  {
   "cell_type": "markdown",
   "metadata": {},
   "source": [
    "## 5) Putting it all together\n",
    "1. Design a transformation matrix that applies all of the transformations in steps 2-4, simultaneously:\n",
    "  - translates by +25 in Y and -1000 in Z\n",
    "  - rotates by 30 degrees about Y\n",
    "  - scales by 3 in X and 0.1 in Z\n",
    "  - Identity Matrix: [eye](https://numpy.org/doc/1.18/reference/generated/numpy.eye.html)\n",
    "2. Multiply your transformation matrix with the dataset using matrix multiplication and transposed matrices\n",
    "  - m @ n or [matmul](https://numpy.org/doc/1.18/reference/generated/numpy.matmul.html) \n",
    "  - [transpose](https://numpy.org/doc/1.18/reference/generated/numpy.ndarray.T.html#numpy.ndarray.T)\n",
    "3. As 3 subplots, graph the scaled results on all 3 possible pairs of axes alongside the original projections."
   ]
  },
  {
   "cell_type": "code",
   "execution_count": null,
   "metadata": {},
   "outputs": [],
   "source": []
  }
 ],
 "metadata": {
  "kernelspec": {
   "display_name": "Python 3",
   "language": "python",
   "name": "python3"
  },
  "language_info": {
   "codemirror_mode": {
    "name": "ipython",
    "version": 3
   },
   "file_extension": ".py",
   "mimetype": "text/x-python",
   "name": "python",
   "nbconvert_exporter": "python",
   "pygments_lexer": "ipython3",
   "version": "3.7.4"
  }
 },
 "nbformat": 4,
 "nbformat_minor": 2
}
