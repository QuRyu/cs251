{
 "cells": [
  {
   "cell_type": "markdown",
   "metadata": {},
   "source": [
    "# Lab 3: Linear Regression\n",
    "\n",
    "## Task 1. Analyze Mystery Data 1\n",
    "\n",
    "### 1a) Use scipy to calculate the linear regression for Mystery Data 1 \n",
    "\n",
    "1. Import data 'data/mystery_data_1.csv' (using your data class or [genfromtxt](https://docs.scipy.org/doc/numpy/reference/generated/numpy.genfromtxt.html))\n",
    "2. Print first 10 lines rows of data.\n",
    "3. Calculate the linear regression [scipy.linalg.lstsq](https://docs.scipy.org/doc/scipy/reference/generated/scipy.linalg.lstsq.html)\n",
    "    1. The x column is the left hand side array and the y column is the right hand side array.\n",
    "    2. This includes adding homogeneous coordinates (for the intercept) to the A matrix. \n",
    "    3. Useful methods: [hstack](https://docs.scipy.org/doc/numpy/reference/generated/numpy.hstack.html), [ones](https://docs.scipy.org/doc/numpy/reference/generated/numpy.ones.html) and [reshape](https://docs.scipy.org/doc/numpy/reference/generated/numpy.reshape.html)\n",
    "4. Print the least-squares solution and residual\n",
    "5. Using the residual, calculate and print the $R^2$ value\n",
    "    1. $R^2 = 1 - \\frac{residues}{smd}$\n",
    "    2. The square mean deviation: $smd = \\sum (y - \\frac{\\sum y}{n} )^2$"
   ]
  },
  {
   "cell_type": "code",
   "execution_count": 2,
   "metadata": {},
   "outputs": [],
   "source": [
    "import numpy as np\n",
    "import scipy.linalg\n",
    "import matplotlib.pyplot as plt"
   ]
  },
  {
   "cell_type": "code",
   "execution_count": 31,
   "metadata": {},
   "outputs": [
    {
     "name": "stdout",
     "output_type": "stream",
     "text": [
      "first 10 rows [[  9.185   0.536]\n",
      " [ 29.323  -3.209]\n",
      " [ 26.767   2.751]\n",
      " [ 17.792  -2.81 ]\n",
      " [ 14.624   2.409]\n",
      " [  8.078   3.677]\n",
      " [  3.736  -3.28 ]\n",
      " [ 10.999  -2.997]\n",
      " [ 18.113  -3.055]\n",
      " [  3.33   -0.443]]\n",
      "c: [-0.05650709  0.92884793]\n",
      "\n",
      "residuals: 3722.8001542015754\n",
      "\n",
      "r: 0.033824411486558126\n",
      "\n",
      "-----------------------------------\n",
      "Your results should look like this:\n",
      "-----------------------------------\n",
      "First 10 rows:\n",
      "[[ 9.185  0.536]\n",
      " [29.323 -3.209]\n",
      " [26.767  2.751]\n",
      " [17.792 -2.81 ]\n",
      " [14.624  2.409]\n",
      " [ 8.078  3.677]\n",
      " [ 3.736 -3.28 ]\n",
      " [10.999 -2.997]\n",
      " [18.113 -3.055]\n",
      " [ 3.33  -0.443]]\n",
      " \n",
      "c: [-0.05650709  0.92884793]\n",
      "\n",
      "residuals: 3722.8001542015754\n",
      "\n",
      "r2: 0.033824411486558126\n",
      "-----------------------------------\n",
      "\n"
     ]
    }
   ],
   "source": [
    "data_fp = 'data/mystery_data_1.csv'\n",
    "data = np.genfromtxt(data_fp, delimiter=',')\n",
    "data = data[2:, :]\n",
    "print(f'first 10 rows {data[0:10, :]}')\n",
    "\n",
    "M = data.shape[0]\n",
    "\n",
    "\n",
    "X = data[:, 0]\n",
    "A = np.hstack((X.reshape(M, 1), np.ones(M).reshape((M, 1))))\n",
    "Y = B = data[:, 1]\n",
    "\n",
    "c, residuals, _, _ = scipy.linalg.lstsq(A, B)\n",
    "\n",
    "mean = np.sum(B)/M\n",
    "smd = np.sum((B - mean) ** 2)\n",
    "r = 1 - residuals/smd\n",
    "\n",
    "print(f'c: {c}\\n')\n",
    "print(f'residuals: {residuals}\\n')\n",
    "print(f'r2: {r}')\n",
    "\n",
    "\n",
    "print('''\n",
    "-----------------------------------\n",
    "Your results should look like this:\n",
    "-----------------------------------\n",
    "First 10 rows:\n",
    "[[ 9.185  0.536]\n",
    " [29.323 -3.209]\n",
    " [26.767  2.751]\n",
    " [17.792 -2.81 ]\n",
    " [14.624  2.409]\n",
    " [ 8.078  3.677]\n",
    " [ 3.736 -3.28 ]\n",
    " [10.999 -2.997]\n",
    " [18.113 -3.055]\n",
    " [ 3.33  -0.443]]\n",
    " \n",
    "c: [-0.05650709  0.92884793]\n",
    "\n",
    "residuals: 3722.8001542015754\n",
    "\n",
    "r2: 0.033824411486558126\n",
    "-----------------------------------\n",
    "''')"
   ]
  },
  {
   "cell_type": "markdown",
   "metadata": {},
   "source": [
    "### 1b) Visualize linear regression results with matplotlib\n",
    "\n",
    "1. Plot a scatterplot of the mystery data with X on the x axis and Y on the y axis\n",
    "2. Plot a line representing the linear regression by predicting 100 values using your least-squares solution\n",
    "    1. For line_x, use [linspace](https://docs.scipy.org/doc/numpy/reference/generated/numpy.linspace.html) to create 100 points from the min x value to the max x value\n",
    "    2. For line_y, multiply line_x by the slope (first weight) and add the intercept (second weight)\n",
    "3. Include a title (with $R^2$ value), legend, x label and y label\n",
    "\n",
    "### 1c)  Interpret the results of the linear regression of the dataset \n",
    "\n",
    "Interpret the results based on your plot and $R^2$ value. Is the linear regression model a good model for the data? Why?"
   ]
  },
  {
   "cell_type": "code",
   "execution_count": 47,
   "metadata": {},
   "outputs": [
    {
     "data": {
      "image/png": "[encoded data removed]",
      "text/plain": [
       "<matplotlib.figure.Figure at 0x7f4dc8092748>"
      ]
     },
     "metadata": {},
     "output_type": "display_data"
    }
   ],
   "source": [
    "fig, ax = plt.subplots() \n",
    "\n",
    "ax.scatter(X, Y)\n",
    "\n",
    "line_x = np.linspace(np.min(X), np.max(X), 100)\n",
    "line_y = line_x * c[0] + c[1]\n",
    "ax.plot(line_x, line_y)\n",
    "\n",
    "ax.legend(['regression', 'Data'])\n",
    "ax.set_xlabel('x')\n",
    "ax.set_ylabel('y')\n",
    "_ = ax.set_title('Linear regression with R2 = 0.0338')"
   ]
  },
  {
   "cell_type": "markdown",
   "metadata": {},
   "source": [
    "No. It is clear that the data has a wave pattern which is not captured by the linear regression model. That $R^2 = 0.0338$ also suggests that it is not a good model."
   ]
  },
  {
   "cell_type": "markdown",
   "metadata": {},
   "source": [
    "## Task 2: Analyze Mystery Data 2\n",
    "\n",
    "### 2a) Use scipy to calculate the linear regression for Mystery Data 2 \n",
    "\n",
    "1. Import data 'data/mystery_data_2.csv'\n",
    "2. Print first 10 lines rows of data.\n",
    "3. Calculate the linear regression, print the least-squares solution and residual\n",
    "4. Using the residual, calculate and print the $R^2$ value"
   ]
  },
  {
   "cell_type": "code",
   "execution_count": 43,
   "metadata": {},
   "outputs": [
    {
     "name": "stdout",
     "output_type": "stream",
     "text": [
      "first 10 rows\n",
      " [[ 0.7236  2.4275]\n",
      " [ 0.5807  2.3386]\n",
      " [ 0.1229  1.4442]\n",
      " [ 0.4115  2.2227]\n",
      " [ 0.9684  2.9695]\n",
      " [ 0.4728  2.1713]\n",
      " [ 0.0312  1.233 ]\n",
      " [ 0.7044  2.3956]\n",
      " [ 0.7069  2.5637]\n",
      " [ 0.5147  2.2832]]\n",
      "\n",
      "c: [ 1.99521566  1.0122057 ]\n",
      "\n",
      "residuals: 8.422356778623064\n",
      "\n",
      "r2: 0.7920134233003178\n",
      "\n",
      "-----------------------------------\n",
      "Your results should look like this:\n",
      "-----------------------------------\n",
      "First 10 rows:\n",
      "[[0.7236 2.4275]\n",
      " [0.5807 2.3386]\n",
      " [0.1229 1.4442]\n",
      " [0.4115 2.2227]\n",
      " [0.9684 2.9695]\n",
      " [0.4728 2.1713]\n",
      " [0.0312 1.233 ]\n",
      " [0.7044 2.3956]\n",
      " [0.7069 2.5637]\n",
      " [0.5147 2.2832]]\n",
      " \n",
      "c: [1.99521566 1.0122057 ]\n",
      "\n",
      "residuals: 8.422356778623062\n",
      "\n",
      "r2: 0.7920134233003179\n",
      "-----------------------------------\n",
      "\n"
     ]
    }
   ],
   "source": [
    "data_fp = 'data/mystery_data_2.csv'\n",
    "data = np.genfromtxt(data_fp, delimiter=',')\n",
    "data = data[2:, :]\n",
    "\n",
    "M = data.shape[0]\n",
    "\n",
    "X = data[:, 0]\n",
    "A = np.hstack((X.reshape(M, 1), np.ones(M).reshape((M, 1))))\n",
    "Y = B = data[:, 1]\n",
    "\n",
    "c, residuals, _, _ = scipy.linalg.lstsq(A, B)\n",
    "\n",
    "mean = np.sum(B)/M\n",
    "smd = np.sum((B - mean) ** 2)\n",
    "r = 1 - residuals/smd\n",
    "\n",
    "print(f'first 10 rows\\n {data[0:10, :]}\\n')\n",
    "print(f'c: {c}\\n')\n",
    "print(f'residuals: {residuals}\\n')\n",
    "print(f'r2: {r}')\n",
    "\n",
    "print('''\n",
    "-----------------------------------\n",
    "Your results should look like this:\n",
    "-----------------------------------\n",
    "First 10 rows:\n",
    "[[0.7236 2.4275]\n",
    " [0.5807 2.3386]\n",
    " [0.1229 1.4442]\n",
    " [0.4115 2.2227]\n",
    " [0.9684 2.9695]\n",
    " [0.4728 2.1713]\n",
    " [0.0312 1.233 ]\n",
    " [0.7044 2.3956]\n",
    " [0.7069 2.5637]\n",
    " [0.5147 2.2832]]\n",
    " \n",
    "c: [1.99521566 1.0122057 ]\n",
    "\n",
    "residuals: 8.422356778623062\n",
    "\n",
    "r2: 0.7920134233003179\n",
    "-----------------------------------\n",
    "''')"
   ]
  },
  {
   "cell_type": "markdown",
   "metadata": {},
   "source": [
    "### 2b) Visualize linear regression results with matplotlib\n",
    "\n",
    "1. Plot a scatterplot of the mystery data with X on the x axis and Y on the y axis\n",
    "2. Plot a line representing the linear regression\n",
    "3. Include a title (with $R^2$ value), legend, x label and y label\n",
    "\n",
    "### 2c)  Interpret the results of the linear regression of the dataset \n",
    "\n",
    "Interpret the results based on your plot and $R^2$ value. Is the linear regression model a good model for the data? Why?"
   ]
  },
  {
   "cell_type": "code",
   "execution_count": 46,
   "metadata": {},
   "outputs": [
    {
     "data": {
      "image/png": "[encoded data removed]",
      "text/plain": [
       "<matplotlib.figure.Figure at 0x7f4dc8141518>"
      ]
     },
     "metadata": {},
     "output_type": "display_data"
    }
   ],
   "source": [
    "fig, ax = plt.subplots() \n",
    "\n",
    "ax.scatter(X, Y)\n",
    "\n",
    "line_x = np.linspace(np.min(X), np.max(X), 100)\n",
    "line_y = line_x * c[0] + c[1]\n",
    "ax.plot(line_x, line_y)\n",
    "\n",
    "ax.legend(['regression', 'Data'])\n",
    "ax.set_xlabel('x')\n",
    "ax.set_ylabel('y')\n",
    "_ = ax.set_title('Linear regression with R2 = 0.7920')"
   ]
  },
  {
   "cell_type": "markdown",
   "metadata": {},
   "source": [
    "Yes, from the plot we can see that the regression line crosses the data pretty well and the fact that $R^2 = 0.7920$ supports the conclusion."
   ]
  },
  {
   "cell_type": "markdown",
   "metadata": {},
   "source": [
    "## Task 3: Analyze Mystery Data 3\n",
    "\n",
    "### 3a) Use scipy to calculate the linear regression for Mystery Data 3 \n",
    "\n",
    "1. Import data 'data/mystery_data_2.csv'\n",
    "2. Print first 10 lines rows of data.\n",
    "3. Calculate the linear regression, print the least-squares solution and residual\n",
    "4. Using the residual, calculate and print the $R^2$ value"
   ]
  },
  {
   "cell_type": "code",
   "execution_count": 48,
   "metadata": {},
   "outputs": [
    {
     "name": "stdout",
     "output_type": "stream",
     "text": [
      "first 10 rows\n",
      " [[   7.1    77.4 ]\n",
      " [   2.21   56.95]\n",
      " [   2.6    19.84]\n",
      " [  19.4   110.62]\n",
      " [  10.5   119.47]\n",
      " [   4.8    76.39]\n",
      " [   4.64   18.15]\n",
      " [  10.3    73.1 ]\n",
      " [   1.99   74.79]\n",
      " [   0.86   74.79]]\n",
      "\n",
      "c: [  3.51214435  43.255079  ]\n",
      "\n",
      "residuals: 998020.861783321\n",
      "\n",
      "r2: 0.0751204137773247\n",
      "\n",
      "-----------------------------------\n",
      "Your results should look like this:\n",
      "-----------------------------------\n",
      "First 10 rows:\n",
      "[[  7.1   77.4 ]\n",
      " [  2.21  56.95]\n",
      " [  2.6   19.84]\n",
      " [ 19.4  110.62]\n",
      " [ 10.5  119.47]\n",
      " [  4.8   76.39]\n",
      " [  4.64  18.15]\n",
      " [ 10.3   73.1 ]\n",
      " [  1.99  74.79]\n",
      " [  0.86  74.79]]\n",
      " \n",
      "c: [ 3.51214435 43.255079  ]\n",
      "\n",
      "residuals: 998020.861783321\n",
      "\n",
      "r2: 0.0751204137773247\n",
      "-----------------------------------\n",
      "\n"
     ]
    }
   ],
   "source": [
    "data_fp = 'data/mystery_data_3.csv'\n",
    "data = np.genfromtxt(data_fp, delimiter=',')\n",
    "data = data[2:, :]\n",
    "\n",
    "M = data.shape[0]\n",
    "\n",
    "X = data[:, 0]\n",
    "A = np.hstack((X.reshape(M, 1), np.ones(M).reshape((M, 1))))\n",
    "Y = B = data[:, 1]\n",
    "\n",
    "c, residuals, _, _ = scipy.linalg.lstsq(A, B)\n",
    "\n",
    "mean = np.sum(B)/M\n",
    "smd = np.sum((B - mean) ** 2)\n",
    "r = 1 - residuals/smd\n",
    "\n",
    "print(f'first 10 rows\\n {data[0:10, :]}\\n')\n",
    "print(f'c: {c}\\n')\n",
    "print(f'residuals: {residuals}\\n')\n",
    "print(f'r2: {r}')\n",
    "\n",
    "print('''\n",
    "-----------------------------------\n",
    "Your results should look like this:\n",
    "-----------------------------------\n",
    "First 10 rows:\n",
    "[[  7.1   77.4 ]\n",
    " [  2.21  56.95]\n",
    " [  2.6   19.84]\n",
    " [ 19.4  110.62]\n",
    " [ 10.5  119.47]\n",
    " [  4.8   76.39]\n",
    " [  4.64  18.15]\n",
    " [ 10.3   73.1 ]\n",
    " [  1.99  74.79]\n",
    " [  0.86  74.79]]\n",
    " \n",
    "c: [ 3.51214435 43.255079  ]\n",
    "\n",
    "residuals: 998020.861783321\n",
    "\n",
    "r2: 0.0751204137773247\n",
    "-----------------------------------\n",
    "''')"
   ]
  },
  {
   "cell_type": "markdown",
   "metadata": {},
   "source": [
    "### 3b) Visualize linear regression results with matplotlib\n",
    "\n",
    "1. Plot a scatterplot of the mystery data with X on the x axis and Y on the y axis\n",
    "2. Plot a line representing the linear regression\n",
    "3. Include a title (with $R^2$ value), legend, x label and y label\n",
    "\n",
    "### 3c)  Interpret the results of the linear regression of the dataset \n",
    "\n",
    "Interpret the results based on your plot and $R^2$ value. Is the linear regression model a good model for the data? Why?"
   ]
  },
  {
   "cell_type": "code",
   "execution_count": 49,
   "metadata": {},
   "outputs": [
    {
     "data": {
      "image/png": "[encoded data removed]",
      "text/plain": [
       "<matplotlib.figure.Figure at 0x7f4dc8082c18>"
      ]
     },
     "metadata": {},
     "output_type": "display_data"
    }
   ],
   "source": [
    "fig, ax = plt.subplots() \n",
    "\n",
    "ax.scatter(X, Y)\n",
    "\n",
    "line_x = np.linspace(np.min(X), np.max(X), 100)\n",
    "line_y = line_x * c[0] + c[1]\n",
    "ax.plot(line_x, line_y)\n",
    "\n",
    "ax.legend(['regression', 'Data'])\n",
    "ax.set_xlabel('x')\n",
    "ax.set_ylabel('y')\n",
    "_ = ax.set_title('Linear regression with R2 = 0.0751')"
   ]
  },
  {
   "cell_type": "markdown",
   "metadata": {},
   "source": [
    "No, because most of the data is centered at the left corner of the plot, which the regression cannot covre. $R^2=0.0751$ also suggests that x and y data are poorly associated. "
   ]
  }
 ],
 "metadata": {
  "kernelspec": {
   "display_name": "Python 3",
   "language": "python",
   "name": "python3"
  },
  "language_info": {
   "codemirror_mode": {
    "name": "ipython",
    "version": 3
   },
   "file_extension": ".py",
   "mimetype": "text/x-python",
   "name": "python",
   "nbconvert_exporter": "python",
   "pygments_lexer": "ipython3",
   "version": "3.7.6"
  }
 },
 "nbformat": 4,
 "nbformat_minor": 4
}
