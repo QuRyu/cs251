{
 "cells": [
  {
   "cell_type": "markdown",
   "metadata": {},
   "source": [
    "**YOUR NAME HERE**\n",
    "\n",
    "Spring 2020\n",
    "\n",
    "CS 251: Data Analysis and Visualization\n",
    "\n",
    "Project 1: Data Analysis and Visualization"
   ]
  },
  {
   "cell_type": "markdown",
   "metadata": {},
   "source": [
    "## Due date\n",
    "\n",
    "Before lab next week, your goal is to write a *draft* of the `Data` class (i.e. try to complete every task in this notebook; *there might be bugs and that's ok — you will have the chance to fix them later without penality*). You will need `Data` for Project 1.\n",
    "\n",
    "**Your progress on `Data` will be graded in lab**: 1 point if you make substantial progress, 0 if not.\n",
    "\n",
    "Get started *immediately* on Task 1 — the first lecture of CS251 should be all that you need to complete this notebook."
   ]
  },
  {
   "cell_type": "markdown",
   "metadata": {},
   "source": [
    "## Task 0) Download data and code templates\n",
    "\n",
    "**TODO:**\n",
    "- Download `iris.csv`, `iris_bad.csv`, `test_data_spaces.csv`, `test_data_complex.csv`, and `anscombe.csv` datasets. Store them in a `data` subdirectory in your project folder.\n",
    "- Download the `data.py` code template, which contains method signatures that you need to implement and detailed instructions about how to implement them. \n",
    "\n",
    "### Don't skip reading this\n",
    "\n",
    "**In this class, it is of PARAMOUNT importance that you write code that conforms to the code template method specifications EXACTLY. This means that the parameter count, data types, return types must match the docstring specifications 100%. We grade by running test code, which includes what we give you in these notebooks. We give this to you to give you rapid feedback to help you determine whether your code is working properly. We may also have other test code that we use to grade, which makes similar assumptions. You will lose points if test code fails to run or returns incorrect results!**\n",
    "\n",
    "**You should never have to modify test code!**"
   ]
  },
  {
   "cell_type": "markdown",
   "metadata": {},
   "source": [
    "## Task 1) `Data` class\n",
    "\n",
    "The `Data` class\n",
    "- Reads in and stores tables of data contained in .csv files\n",
    "- Allows the user to select and return variables by their string name, rather than their column index.\n",
    "\n",
    "### Overview of CSV files\n",
    "\n",
    "Your `Data` class parses .csv data files. Here is the assumed structure of each .csv file:\n",
    "- 1st row: headers (name of each data variable / column)\n",
    "- 2nd row: Data type. Possible values: `numeric`, `string`, `enum`, or `date`. Numeric types can be either integers or floating point values; strings are arbitrary strings; enum implies there are a finite number of values but they can be strings or numbers; a date should be interpreted as a calendar date.\n",
    "- 3rd row+: Actual data.\n",
    "\n",
    "**Your `Data` object should only hold `numeric` data variables (ignore non-numeric columns of data)**\n",
    "\n",
    "### Overview of `Data` class\n",
    "\n",
    "**TODO:** \n",
    "\n",
    "Implement the following methods in `data.py`. As you go, execute (Shift+Return) code in the notebook cells below to test out your code.\n",
    "- Constructor: Declare/initialize instance variables, start parsing .csv file if its path is provided.\n",
    "- `read(filepath)`: Reads data from the specified .csv file into the `Data` object.\n",
    "- `__str__()`: Prepares a nicely formatted string for printing `Data` objects\n",
    "- `get_headers()`: returns a list of all of the headers.\n",
    "- `get_types()`: returns a list of all of variable data types\n",
    "- `get_mappings()`: returns a list of all of the dictionary mappings between variable name and column index.\n",
    "- `get_num_dims()`: returns the number of variables (columns).\n",
    "- `get_num_samples()`: returns the number of samples in the data set.\n",
    "- `get_sample(rowInd)`: returns the `rowInd`-th data sample.\n",
    "- `get_all_data()`: returns a copy of the entire dataset.\n",
    "\n"
   ]
  },
  {
   "cell_type": "code",
   "execution_count": 1,
   "metadata": {},
   "outputs": [],
   "source": [
    "from data import Data\n",
    "import numpy as np\n",
    "\n",
    "# Automatically reload external modules\n",
    "%load_ext autoreload\n",
    "%autoreload 2"
   ]
  },
  {
   "cell_type": "markdown",
   "metadata": {},
   "source": [
    "### 1a) Test constructor and `read`"
   ]
  },
  {
   "cell_type": "markdown",
   "metadata": {},
   "source": [
    "#### (i) Read data in constructor"
   ]
  },
  {
   "cell_type": "code",
   "execution_count": 2,
   "metadata": {},
   "outputs": [
    {
     "name": "stdout",
     "output_type": "stream",
     "text": [
      "Your file path is data/iris.csv and should be data/iris.csv\n",
      "\n",
      "Your iris headers are\n",
      "['sepal_length', 'sepal_width', 'petal_length', 'petal_width', 'species']\n",
      "and should be\n",
      "['sepal_length', 'sepal_width', 'petal_length', 'petal_width']\n",
      "\n",
      "Your iris variable types are\n",
      "['numeric', 'numeric', 'numeric', 'numeric', 'string']\n",
      "and should be\n",
      "['numeric', 'numeric', 'numeric', 'numeric']\n",
      "\n",
      "Your iris variable mapping is\n",
      "{'sepal_length': (<DataType.Numeric: 1>, 0), 'sepal_width': (<DataType.Numeric: 1>, 1), 'petal_length': (<DataType.Numeric: 1>, 2), 'petal_width': (<DataType.Numeric: 1>, 3), 'species': (<DataType.NonNumeric: 2>, 0)}\n",
      "and should be\n",
      "'sepal_length': 0, 'sepal_width': 1, 'petal_length': 2, 'petal_width': 3\n",
      "\n",
      "Your data is a ndarray? True\n",
      "Your data has 150 samples and 4 variables/dimensions.\n",
      "It should have 150 samples and 4 variables/dimensions.\n"
     ]
    }
   ],
   "source": [
    "iris_filename = 'data/iris.csv'\n",
    "iris_data = Data(iris_filename)\n",
    "\n",
    "print(f'Your file path is {iris_data.filepath} and should be data/iris.csv\\n')\n",
    "print(f\"Your iris headers are\\n{iris_data.headers}\\nand should be\\n['sepal_length', 'sepal_width', 'petal_length', 'petal_width']\\n\")\n",
    "print(f\"Your iris variable types are\\n{iris_data.types}\\nand should be\\n['numeric', 'numeric', 'numeric', 'numeric']\\n\")\n",
    "print(f\"Your iris variable mapping is\\n{iris_data.header2col}\\nand should be\\n'sepal_length': 0, 'sepal_width': 1, 'petal_length': 2, 'petal_width': 3\\n\")\n",
    "print(f'Your data is a ndarray? {isinstance(iris_data.data, np.ndarray)}')\n",
    "print(f'Your data has {iris_data.data.shape[0]} samples and {iris_data.data.shape[1]} variables/dimensions.\\nIt should have 150 samples and 4 variables/dimensions.')"
   ]
  },
  {
   "cell_type": "markdown",
   "metadata": {},
   "source": [
    "#### (ii) Read data separately"
   ]
  },
  {
   "cell_type": "code",
   "execution_count": 3,
   "metadata": {},
   "outputs": [
    {
     "name": "stdout",
     "output_type": "stream",
     "text": [
      "Before calling read...\n",
      "Your iris headers are None and should be None or []\n",
      "\n",
      "After calling read...\n",
      "Your file path is data/iris.csv and should be data/iris.csv\n",
      "\n",
      "Your iris headers are\n",
      "['sepal_length', 'sepal_width', 'petal_length', 'petal_width', 'species']\n",
      "and should be\n",
      "['sepal_length', 'sepal_width', 'petal_length', 'petal_width']\n",
      "\n",
      "Your iris variable types are\n",
      "['numeric', 'numeric', 'numeric', 'numeric', 'string']\n",
      "and should be\n",
      "['numeric', 'numeric', 'numeric', 'numeric']\n",
      "\n",
      "Your iris variable mapping is\n",
      "{'sepal_length': (<DataType.Numeric: 1>, 0), 'sepal_width': (<DataType.Numeric: 1>, 1), 'petal_length': (<DataType.Numeric: 1>, 2), 'petal_width': (<DataType.Numeric: 1>, 3), 'species': (<DataType.NonNumeric: 2>, 0)}\n",
      "and should be\n",
      "'sepal_length': 0, 'sepal_width': 1, 'petal_length': 2, 'petal_width': 3\n",
      "\n",
      "Your data is a ndarray? True\n",
      "Your data has 150 samples and 4 variables/dimensions.\n",
      "It should have 150 samples and 4 variables/dimensions.\n"
     ]
    }
   ],
   "source": [
    "iris_filename = 'data/iris.csv'\n",
    "iris_data = Data()\n",
    "print('Before calling read...')\n",
    "print(f\"Your iris headers are None and should be None or []\\n\")\n",
    "\n",
    "iris_data.read(iris_filename)\n",
    "\n",
    "print('After calling read...')\n",
    "print(f'Your file path is {iris_data.filepath} and should be data/iris.csv\\n')\n",
    "print(f\"Your iris headers are\\n{iris_data.headers}\\nand should be\\n['sepal_length', 'sepal_width', 'petal_length', 'petal_width']\\n\")\n",
    "print(f\"Your iris variable types are\\n{iris_data.types}\\nand should be\\n['numeric', 'numeric', 'numeric', 'numeric']\\n\")\n",
    "print(f\"Your iris variable mapping is\\n{iris_data.header2col}\\nand should be\\n'sepal_length': 0, 'sepal_width': 1, 'petal_length': 2, 'petal_width': 3\\n\")\n",
    "print(f'Your data is a ndarray? {isinstance(iris_data.data, np.ndarray)}')\n",
    "print(f'Your data has {iris_data.data.shape[0]} samples and {iris_data.data.shape[1]} variables/dimensions.\\nIt should have 150 samples and 4 variables/dimensions.')"
   ]
  },
  {
   "cell_type": "markdown",
   "metadata": {},
   "source": [
    "#### (iii) Handle error\n",
    "\n",
    "This should crash, but with own error message that helps the user identify the problem and what to do to fix it."
   ]
  },
  {
   "cell_type": "code",
   "execution_count": 4,
   "metadata": {},
   "outputs": [
    {
     "name": "stdout",
     "output_type": "stream",
     "text": [
      "data type 5.1 not supported: check row 2 of the data file\n",
      "\n"
     ]
    }
   ],
   "source": [
    "iris_filename = 'data/iris_bad.csv'\n",
    "iris_data = Data()\n",
    "iris_data.read(iris_filename)"
   ]
  },
  {
   "cell_type": "markdown",
   "metadata": {},
   "source": [
    "#### (iv) Test spaces"
   ]
  },
  {
   "cell_type": "code",
   "execution_count": 5,
   "metadata": {},
   "outputs": [
    {
     "name": "stdout",
     "output_type": "stream",
     "text": [
      "Your test data looks like:\n",
      " [[ 1.  2.  3.  4.]\n",
      " [ 5.  6.  7.  8.]\n",
      " [ 9. 10. 11. 12.]]\n"
     ]
    }
   ],
   "source": [
    "test_filename = 'data/test_data_spaces.csv'\n",
    "test_data = Data(test_filename)\n",
    "print(f'Your test data looks like:\\n', test_data.data)"
   ]
  },
  {
   "cell_type": "markdown",
   "metadata": {},
   "source": [
    "You should see:\n",
    "\n",
    "    Your test data looks like:\n",
    "     [[ 1.  2.  3.  4.]\n",
    "     [ 5.  6.  7.  8.]\n",
    "     [ 9. 10. 11. 12.]]\n",
    "     \n",
    "Pay attention to the data type! The numbers should be floats (not have quotes around them)."
   ]
  },
  {
   "cell_type": "markdown",
   "metadata": {},
   "source": [
    "### 1b) Test `__str__`"
   ]
  },
  {
   "cell_type": "markdown",
   "metadata": {},
   "source": [
    "#### (i) Iris data"
   ]
  },
  {
   "cell_type": "code",
   "execution_count": 6,
   "metadata": {},
   "outputs": [
    {
     "name": "stdout",
     "output_type": "stream",
     "text": [
      "sepal_length sepal_width petal_length petal_width \n",
      "numeric numeric numeric numeric \n",
      "[[5.1 3.5 1.4 0.2]\n",
      " [4.9 3.  1.4 0.2]\n",
      " [4.7 3.2 1.3 0.2]\n",
      " [4.6 3.1 1.5 0.2]\n",
      " [5.  3.6 1.4 0.2]\n",
      " [5.4 3.9 1.7 0.4]\n",
      " [4.6 3.4 1.4 0.3]\n",
      " [5.  3.4 1.5 0.2]\n",
      " [4.4 2.9 1.4 0.2]\n",
      " [4.9 3.1 1.5 0.1]\n",
      " [5.4 3.7 1.5 0.2]\n",
      " [4.8 3.4 1.6 0.2]\n",
      " [4.8 3.  1.4 0.1]\n",
      " [4.3 3.  1.1 0.1]\n",
      " [5.8 4.  1.2 0.2]\n",
      " [5.7 4.4 1.5 0.4]\n",
      " [5.4 3.9 1.3 0.4]\n",
      " [5.1 3.5 1.4 0.3]\n",
      " [5.7 3.8 1.7 0.3]\n",
      " [5.1 3.8 1.5 0.3]\n",
      " [5.4 3.4 1.7 0.2]\n",
      " [5.1 3.7 1.5 0.4]\n",
      " [4.6 3.6 1.  0.2]\n",
      " [5.1 3.3 1.7 0.5]\n",
      " [4.8 3.4 1.9 0.2]\n",
      " [5.  3.  1.6 0.2]\n",
      " [5.  3.4 1.6 0.4]\n",
      " [5.2 3.5 1.5 0.2]\n",
      " [5.2 3.4 1.4 0.2]\n",
      " [4.7 3.2 1.6 0.2]\n",
      " [4.8 3.1 1.6 0.2]\n",
      " [5.4 3.4 1.5 0.4]\n",
      " [5.2 4.1 1.5 0.1]\n",
      " [5.5 4.2 1.4 0.2]\n",
      " [4.9 3.1 1.5 0.2]\n",
      " [5.  3.2 1.2 0.2]\n",
      " [5.5 3.5 1.3 0.2]\n",
      " [4.9 3.6 1.4 0.1]\n",
      " [4.4 3.  1.3 0.2]\n",
      " [5.1 3.4 1.5 0.2]\n",
      " [5.  3.5 1.3 0.3]\n",
      " [4.5 2.3 1.3 0.3]\n",
      " [4.4 3.2 1.3 0.2]\n",
      " [5.  3.5 1.6 0.6]\n",
      " [5.1 3.8 1.9 0.4]\n",
      " [4.8 3.  1.4 0.3]\n",
      " [5.1 3.8 1.6 0.2]\n",
      " [4.6 3.2 1.4 0.2]\n",
      " [5.3 3.7 1.5 0.2]\n",
      " [5.  3.3 1.4 0.2]\n",
      " [7.  3.2 4.7 1.4]\n",
      " [6.4 3.2 4.5 1.5]\n",
      " [6.9 3.1 4.9 1.5]\n",
      " [5.5 2.3 4.  1.3]\n",
      " [6.5 2.8 4.6 1.5]\n",
      " [5.7 2.8 4.5 1.3]\n",
      " [6.3 3.3 4.7 1.6]\n",
      " [4.9 2.4 3.3 1. ]\n",
      " [6.6 2.9 4.6 1.3]\n",
      " [5.2 2.7 3.9 1.4]\n",
      " [5.  2.  3.5 1. ]\n",
      " [5.9 3.  4.2 1.5]\n",
      " [6.  2.2 4.  1. ]\n",
      " [6.1 2.9 4.7 1.4]\n",
      " [5.6 2.9 3.6 1.3]\n",
      " [6.7 3.1 4.4 1.4]\n",
      " [5.6 3.  4.5 1.5]\n",
      " [5.8 2.7 4.1 1. ]\n",
      " [6.2 2.2 4.5 1.5]\n",
      " [5.6 2.5 3.9 1.1]\n",
      " [5.9 3.2 4.8 1.8]\n",
      " [6.1 2.8 4.  1.3]\n",
      " [6.3 2.5 4.9 1.5]\n",
      " [6.1 2.8 4.7 1.2]\n",
      " [6.4 2.9 4.3 1.3]\n",
      " [6.6 3.  4.4 1.4]\n",
      " [6.8 2.8 4.8 1.4]\n",
      " [6.7 3.  5.  1.7]\n",
      " [6.  2.9 4.5 1.5]\n",
      " [5.7 2.6 3.5 1. ]\n",
      " [5.5 2.4 3.8 1.1]\n",
      " [5.5 2.4 3.7 1. ]\n",
      " [5.8 2.7 3.9 1.2]\n",
      " [6.  2.7 5.1 1.6]\n",
      " [5.4 3.  4.5 1.5]\n",
      " [6.  3.4 4.5 1.6]\n",
      " [6.7 3.1 4.7 1.5]\n",
      " [6.3 2.3 4.4 1.3]\n",
      " [5.6 3.  4.1 1.3]\n",
      " [5.5 2.5 4.  1.3]\n",
      " [5.5 2.6 4.4 1.2]\n",
      " [6.1 3.  4.6 1.4]\n",
      " [5.8 2.6 4.  1.2]\n",
      " [5.  2.3 3.3 1. ]\n",
      " [5.6 2.7 4.2 1.3]\n",
      " [5.7 3.  4.2 1.2]\n",
      " [5.7 2.9 4.2 1.3]\n",
      " [6.2 2.9 4.3 1.3]\n",
      " [5.1 2.5 3.  1.1]\n",
      " [5.7 2.8 4.1 1.3]\n",
      " [6.3 3.3 6.  2.5]\n",
      " [5.8 2.7 5.1 1.9]\n",
      " [7.1 3.  5.9 2.1]\n",
      " [6.3 2.9 5.6 1.8]\n",
      " [6.5 3.  5.8 2.2]\n",
      " [7.6 3.  6.6 2.1]\n",
      " [4.9 2.5 4.5 1.7]\n",
      " [7.3 2.9 6.3 1.8]\n",
      " [6.7 2.5 5.8 1.8]\n",
      " [7.2 3.6 6.1 2.5]\n",
      " [6.5 3.2 5.1 2. ]\n",
      " [6.4 2.7 5.3 1.9]\n",
      " [6.8 3.  5.5 2.1]\n",
      " [5.7 2.5 5.  2. ]\n",
      " [5.8 2.8 5.1 2.4]\n",
      " [6.4 3.2 5.3 2.3]\n",
      " [6.5 3.  5.5 1.8]\n",
      " [7.7 3.8 6.7 2.2]\n",
      " [7.7 2.6 6.9 2.3]\n",
      " [6.  2.2 5.  1.5]\n",
      " [6.9 3.2 5.7 2.3]\n",
      " [5.6 2.8 4.9 2. ]\n",
      " [7.7 2.8 6.7 2. ]\n",
      " [6.3 2.7 4.9 1.8]\n",
      " [6.7 3.3 5.7 2.1]\n",
      " [7.2 3.2 6.  1.8]\n",
      " [6.2 2.8 4.8 1.8]\n",
      " [6.1 3.  4.9 1.8]\n",
      " [6.4 2.8 5.6 2.1]\n",
      " [7.2 3.  5.8 1.6]\n",
      " [7.4 2.8 6.1 1.9]\n",
      " [7.9 3.8 6.4 2. ]\n",
      " [6.4 2.8 5.6 2.2]\n",
      " [6.3 2.8 5.1 1.5]\n",
      " [6.1 2.6 5.6 1.4]\n",
      " [7.7 3.  6.1 2.3]\n",
      " [6.3 3.4 5.6 2.4]\n",
      " [6.4 3.1 5.5 1.8]\n",
      " [6.  3.  4.8 1.8]\n",
      " [6.9 3.1 5.4 2.1]\n",
      " [6.7 3.1 5.6 2.4]\n",
      " [6.9 3.1 5.1 2.3]\n",
      " [5.8 2.7 5.1 1.9]\n",
      " [6.8 3.2 5.9 2.3]\n",
      " [6.7 3.3 5.7 2.5]\n",
      " [6.7 3.  5.2 2.3]\n",
      " [6.3 2.5 5.  1.9]\n",
      " [6.5 3.  5.2 2. ]\n",
      " [6.2 3.4 5.4 2.3]\n",
      " [5.9 3.  5.1 1.8]]\n"
     ]
    }
   ],
   "source": [
    "iris_filename = 'data/iris.csv'\n",
    "iris_data = Data(iris_filename)\n",
    "print(iris_data)"
   ]
  },
  {
   "cell_type": "markdown",
   "metadata": {},
   "source": [
    "You should get something that looks like:\n",
    "\n",
    "    -------------------------------\n",
    "    data/iris.csv (150x4)\n",
    "    Headers:\n",
    "    sepal_length\tsepal_width\tpetal_length\tpetal_width\n",
    "    Types:\n",
    "    numeric\tnumeric\tnumeric\tnumeric\n",
    "    -------------------------------\n",
    "    Showing first 5/150 rows.\n",
    "    5.1\t3.5\t1.4\t0.2\n",
    "    4.9\t3.0\t1.4\t0.2\n",
    "    4.7\t3.2\t1.3\t0.2\n",
    "    4.6\t3.1\t1.5\t0.2\n",
    "    5.0\t3.6\t1.4\t0.2\n",
    "\n",
    "    -------------------------------"
   ]
  },
  {
   "cell_type": "markdown",
   "metadata": {},
   "source": [
    "#### (ii) Anscombe quartet data"
   ]
  },
  {
   "cell_type": "code",
   "execution_count": 7,
   "metadata": {},
   "outputs": [
    {
     "name": "stdout",
     "output_type": "stream",
     "text": [
      "x y \n",
      "numeric numeric \n",
      "[[10.    8.04]\n",
      " [ 8.    6.95]\n",
      " [13.    7.58]\n",
      " [ 9.    8.81]\n",
      " [11.    8.33]\n",
      " [14.    9.96]\n",
      " [ 6.    7.24]\n",
      " [ 4.    4.26]\n",
      " [12.   10.84]\n",
      " [ 7.    4.82]\n",
      " [ 5.    5.68]\n",
      " [10.    9.14]\n",
      " [ 8.    8.14]\n",
      " [13.    8.74]\n",
      " [ 9.    8.77]\n",
      " [11.    9.26]\n",
      " [14.    8.1 ]\n",
      " [ 6.    6.13]\n",
      " [ 4.    3.1 ]\n",
      " [12.    9.13]\n",
      " [ 7.    7.26]\n",
      " [ 5.    4.74]\n",
      " [10.    7.46]\n",
      " [ 8.    6.77]\n",
      " [13.   12.74]\n",
      " [ 9.    7.11]\n",
      " [11.    7.81]\n",
      " [14.    8.84]\n",
      " [ 6.    6.08]\n",
      " [ 4.    5.39]\n",
      " [12.    8.15]\n",
      " [ 7.    6.42]\n",
      " [ 5.    5.73]\n",
      " [ 8.    6.58]\n",
      " [ 8.    5.76]\n",
      " [ 8.    7.71]\n",
      " [ 8.    8.84]\n",
      " [ 8.    8.47]\n",
      " [ 8.    7.04]\n",
      " [ 8.    5.25]\n",
      " [19.   12.5 ]\n",
      " [ 8.    5.56]\n",
      " [ 8.    7.91]\n",
      " [ 8.    6.89]]\n"
     ]
    }
   ],
   "source": [
    "ans_filename = 'data/anscombe.csv'\n",
    "ans_data = Data(ans_filename)\n",
    "print(ans_data)"
   ]
  },
  {
   "cell_type": "markdown",
   "metadata": {},
   "source": [
    "You should get something that looks like:\n",
    "\n",
    "    -------------------------------\n",
    "    data/anscombe.csv (44x2)\n",
    "    Headers:\n",
    "    x\ty\n",
    "    Types:\n",
    "    numeric\tnumeric\n",
    "    -------------------------------\n",
    "    Showing first 5/44 rows.\n",
    "    10.0\t8.04\n",
    "    8.0\t6.95\n",
    "    13.0\t7.58\n",
    "    9.0\t8.81\n",
    "    11.0\t8.33\n",
    "\n",
    "    -------------------------------"
   ]
  },
  {
   "cell_type": "markdown",
   "metadata": {},
   "source": [
    "#### (iii) Test data with spaces"
   ]
  },
  {
   "cell_type": "code",
   "execution_count": 8,
   "metadata": {},
   "outputs": [
    {
     "name": "stdout",
     "output_type": "stream",
     "text": [
      "headers spaces bad places \n",
      "numeric numeric numeric numeric \n",
      "[[ 1.  2.  3.  4.]\n",
      " [ 5.  6.  7.  8.]\n",
      " [ 9. 10. 11. 12.]]\n"
     ]
    }
   ],
   "source": [
    "test_filename = 'data/test_data_spaces.csv'\n",
    "test_data = Data(test_filename)\n",
    "print(test_data)"
   ]
  },
  {
   "cell_type": "markdown",
   "metadata": {},
   "source": [
    "You should get something that looks like:\n",
    "\n",
    "    -------------------------------\n",
    "    data/test_data_spaces.csv (3x4)\n",
    "    Headers:\n",
    "    headers\tspaces\tbad\tplaces\n",
    "    Types:\n",
    "    numeric\t numeric\t numeric\t numeric\n",
    "    -------------------------------\n",
    "    1.0\t 2\t 3\t 4\n",
    "    5.0\t6\t7\t8\n",
    "    9.0\t10\t11\t12\n",
    "\n",
    "    -------------------------------"
   ]
  },
  {
   "cell_type": "markdown",
   "metadata": {},
   "source": [
    "#### (iv) Test data with complex data types"
   ]
  },
  {
   "cell_type": "code",
   "execution_count": 9,
   "metadata": {},
   "outputs": [
    {
     "name": "stdout",
     "output_type": "stream",
     "text": [
      "enumstuff numberstuff datestuff \n",
      "enum numeric date \n",
      "[[0.0000000e+00 4.0000000e+00 1.2938580e+09]\n",
      " [0.0000000e+00 3.0000000e+00 1.2939444e+09]\n",
      " [1.0000000e+00 2.0000000e+00 1.2940308e+09]\n",
      " [2.0000000e+00 1.0000000e+00 1.2941172e+09]\n",
      " [2.0000000e+00 5.0000000e+00 1.2942036e+09]\n",
      " [1.0000000e+00 6.0000000e+00 1.2942900e+09]\n",
      " [3.0000000e+00 7.0000000e+00 1.2943764e+09]\n",
      " [1.0000000e+00 8.0000000e+00 1.2944628e+09]\n",
      " [1.0000000e+00 9.0000000e+00 1.2945492e+09]\n",
      " [2.0000000e+00 1.0000000e+01 1.2946356e+09]\n",
      " [0.0000000e+00 1.1000000e+01 1.2947220e+09]\n",
      " [0.0000000e+00 1.5000000e+01 1.2948084e+09]\n",
      " [3.0000000e+00 1.4000000e+01 1.3253940e+09]\n",
      " [0.0000000e+00 1.3000000e+01 1.3254804e+09]\n",
      " [2.0000000e+00 1.2000000e+01 1.3255668e+09]]\n"
     ]
    }
   ],
   "source": [
    "test_filename = 'data/test_data_complex.csv'\n",
    "test_data = Data(test_filename)\n",
    "print(test_data)"
   ]
  },
  {
   "cell_type": "markdown",
   "metadata": {},
   "source": [
    "You should get something that looks like:\n",
    "\n",
    "    -------------------------------\n",
    "    data/test_data_complex.csv (15x1)\n",
    "    Headers:\n",
    "    numberstuff\n",
    "    Types:\n",
    "    numeric\n",
    "    -------------------------------\n",
    "    Showing first 5/15 rows.\n",
    "    4.0\n",
    "    3.0\n",
    "    2.0\n",
    "    1.0\n",
    "    5.0\n",
    "\n",
    "    -------------------------------"
   ]
  },
  {
   "cell_type": "markdown",
   "metadata": {},
   "source": [
    "### 1c) Test get methods"
   ]
  },
  {
   "cell_type": "code",
   "execution_count": 10,
   "metadata": {},
   "outputs": [
    {
     "name": "stdout",
     "output_type": "stream",
     "text": [
      "Your iris headers are\n",
      "['sepal_length', 'sepal_width', 'petal_length', 'petal_width', 'species']\n",
      "and should be\n",
      "['sepal_length', 'sepal_width', 'petal_length', 'petal_width']\n",
      "\n",
      "Your iris variable types are\n",
      "['numeric', 'numeric', 'numeric', 'numeric', 'string']\n",
      "and should be\n",
      "['numeric', 'numeric', 'numeric', 'numeric']\n",
      "\n",
      "Your iris variable mapping is\n",
      "{'sepal_length': 0, 'sepal_width': 1, 'petal_length': 2, 'petal_width': 3}\n",
      "and should be\n",
      "'sepal_length': 0, 'sepal_width': 1, 'petal_length': 2, 'petal_width': 3\n",
      "\n",
      "Your data has 150 samples and 5 variables/dimensions.\n",
      "It should have 150 samples and 4 variables/dimensions.\n",
      "\n",
      "Your 10th sample is\n",
      "[[4.9 3.1 1.5 0.1]]\n",
      "and should be \n",
      "[4.9 3.1 1.5 0.1]\n",
      "\n"
     ]
    },
    {
     "ename": "TypeError",
     "evalue": "'NoneType' object does not support item assignment",
     "output_type": "error",
     "traceback": [
      "\u001b[0;31m---------------------------------------------------------------------------\u001b[0m",
      "\u001b[0;31mTypeError\u001b[0m                                 Traceback (most recent call last)",
      "\u001b[0;32m<ipython-input-10-a3031405c6ae>\u001b[0m in \u001b[0;36m<module>\u001b[0;34m\u001b[0m\n\u001b[1;32m      9\u001b[0m \u001b[0;34m\u001b[0m\u001b[0m\n\u001b[1;32m     10\u001b[0m \u001b[0mdat\u001b[0m \u001b[0;34m=\u001b[0m \u001b[0miris_data\u001b[0m\u001b[0;34m.\u001b[0m\u001b[0mget_all_data\u001b[0m\u001b[0;34m(\u001b[0m\u001b[0;34m)\u001b[0m\u001b[0;34m\u001b[0m\u001b[0;34m\u001b[0m\u001b[0m\n\u001b[0;32m---> 11\u001b[0;31m \u001b[0mdat\u001b[0m\u001b[0;34m[\u001b[0m\u001b[0;36m0\u001b[0m\u001b[0;34m,\u001b[0m\u001b[0;34m:\u001b[0m\u001b[0;34m]\u001b[0m \u001b[0;34m=\u001b[0m \u001b[0;34m-\u001b[0m\u001b[0;36m9999\u001b[0m\u001b[0;34m\u001b[0m\u001b[0;34m\u001b[0m\u001b[0m\n\u001b[0m\u001b[1;32m     12\u001b[0m \u001b[0mnew_dat\u001b[0m \u001b[0;34m=\u001b[0m \u001b[0miris_data\u001b[0m\u001b[0;34m.\u001b[0m\u001b[0mget_all_data\u001b[0m\u001b[0;34m(\u001b[0m\u001b[0;34m)\u001b[0m\u001b[0;34m\u001b[0m\u001b[0;34m\u001b[0m\u001b[0m\n\u001b[1;32m     13\u001b[0m \u001b[0;32mif\u001b[0m \u001b[0mnew_dat\u001b[0m\u001b[0;34m[\u001b[0m\u001b[0;36m0\u001b[0m\u001b[0;34m,\u001b[0m \u001b[0;36m0\u001b[0m\u001b[0;34m]\u001b[0m \u001b[0;34m==\u001b[0m \u001b[0;34m-\u001b[0m\u001b[0;36m9999.\u001b[0m\u001b[0;34m:\u001b[0m\u001b[0;34m\u001b[0m\u001b[0;34m\u001b[0m\u001b[0m\n",
      "\u001b[0;31mTypeError\u001b[0m: 'NoneType' object does not support item assignment"
     ]
    }
   ],
   "source": [
    "iris_filename = 'data/iris.csv'\n",
    "iris_data = Data(iris_filename)\n",
    "\n",
    "print(f\"Your iris headers are\\n{iris_data.get_headers()}\\nand should be\\n['sepal_length', 'sepal_width', 'petal_length', 'petal_width']\\n\")\n",
    "print(f\"Your iris variable types are\\n{iris_data.get_types()}\\nand should be\\n['numeric', 'numeric', 'numeric', 'numeric']\\n\")\n",
    "print(f\"Your iris variable mapping is\\n{iris_data.get_mappings()}\\nand should be\\n'sepal_length': 0, 'sepal_width': 1, 'petal_length': 2, 'petal_width': 3\\n\")\n",
    "print(f'Your data has {iris_data.get_num_samples()} samples and {iris_data.get_num_dims()} variables/dimensions.\\nIt should have 150 samples and 4 variables/dimensions.\\n')\n",
    "print(f'Your 10th sample is\\n{iris_data.get_sample(9)}\\nand should be \\n[4.9 3.1 1.5 0.1]\\n')\n",
    "\n",
    "dat = iris_data.get_all_data()\n",
    "dat[0,:] = -9999\n",
    "new_dat = iris_data.get_all_data()\n",
    "if new_dat[0, 0] == -9999.:\n",
    "    print('!!You did not return a copy of your data!!\\n')"
   ]
  },
  {
   "cell_type": "code",
   "execution_count": null,
   "metadata": {},
   "outputs": [],
   "source": []
  }
 ],
 "metadata": {
  "kernelspec": {
   "display_name": "Python 3",
   "language": "python",
   "name": "python3"
  },
  "language_info": {
   "codemirror_mode": {
    "name": "ipython",
    "version": 3
   },
   "file_extension": ".py",
   "mimetype": "text/x-python",
   "name": "python",
   "nbconvert_exporter": "python",
   "pygments_lexer": "ipython3",
   "version": "3.7.6"
  }
 },
 "nbformat": 4,
 "nbformat_minor": 2
}
